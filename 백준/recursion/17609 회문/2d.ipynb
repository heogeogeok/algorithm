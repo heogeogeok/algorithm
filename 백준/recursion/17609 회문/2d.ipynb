{
 "cells": [
  {
   "cell_type": "code",
   "execution_count": null,
   "metadata": {},
   "outputs": [],
   "source": [
    "t = 7\n",
    "words = [\n",
    "    \"abba\",\n",
    "    \"summuus\",\n",
    "    \"xabba\",\n",
    "    \"xabbay\",\n",
    "    \"comcom\",\n",
    "    \"comwwmoc\",\n",
    "    \"comwwtmoc\"\n",
    "]"
   ]
  },
  {
   "cell_type": "code",
   "execution_count": null,
   "metadata": {},
   "outputs": [],
   "source": [
    "def is_palidrome(s):\n",
    "    left = 0\n",
    "    right = len(s) - 1\n",
    "    \n",
    "    while left < right: \n",
    "        if s[left] != s[right]:\n",
    "            if s[left + 1] == s[right]: \n",
    "                temp = s[left + 1:right + 1]\n",
    "                if temp == temp[::-1]:\n",
    "                    return 1\n",
    "            elif s[left] == s[right - 1]:\n",
    "                temp = s[left:right]\n",
    "                if temp == temp[::-1]:\n",
    "                    return 1\n",
    "            else:\n",
    "                return 2\n",
    "\n",
    "        left += 1\n",
    "        right -= 1\n",
    "    \n",
    "    return 0 "
   ]
  },
  {
   "cell_type": "code",
   "execution_count": 5,
   "metadata": {},
   "outputs": [
    {
     "name": "stdout",
     "output_type": "stream",
     "text": [
      "0\n",
      "1\n",
      "1\n",
      "2\n",
      "2\n",
      "0\n",
      "1\n"
     ]
    }
   ],
   "source": [
    "for s in words:\n",
    "    print(is_palidrome(s))"
   ]
  }
 ],
 "metadata": {
  "kernelspec": {
   "display_name": "venv",
   "language": "python",
   "name": "python3"
  },
  "language_info": {
   "codemirror_mode": {
    "name": "ipython",
    "version": 3
   },
   "file_extension": ".py",
   "mimetype": "text/x-python",
   "name": "python",
   "nbconvert_exporter": "python",
   "pygments_lexer": "ipython3",
   "version": "3.12.4"
  }
 },
 "nbformat": 4,
 "nbformat_minor": 2
}
