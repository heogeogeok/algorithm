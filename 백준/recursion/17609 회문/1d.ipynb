{
 "cells": [
  {
   "cell_type": "code",
   "execution_count": 1,
   "metadata": {},
   "outputs": [],
   "source": [
    "# 1. 입력 처리\n",
    "t = int(input())\n",
    "strings = [input() for _ in range(t)]"
   ]
  },
  {
   "cell_type": "code",
   "execution_count": null,
   "metadata": {},
   "outputs": [
    {
     "name": "stdout",
     "output_type": "stream",
     "text": [
      "0\n",
      "1\n",
      "1\n",
      "2\n",
      "2\n",
      "0\n",
      "1\n"
     ]
    }
   ],
   "source": [
    "# 2. 반복문 처리\n",
    "def is_palindrome(s):\n",
    "    left = 0\n",
    "    right = len(s) - 1\n",
    "\n",
    "    while left < right:\n",
    "        if s[left] == s[right]:\n",
    "            left += 1\n",
    "            right -= 1\n",
    "        else:\n",
    "            if s[left] == s[right -1]:\n",
    "                temp = s[left:right]\n",
    "                if temp == temp[::-1]:\n",
    "                    return 1\n",
    "\n",
    "            if s[left + 1] == s[right]:\n",
    "                temp = s[left + 1:right + 1]\n",
    "                if temp == temp[::-1]:\n",
    "                    return 1\n",
    "        \n",
    "            return 2\n",
    "    \n",
    "    return 0\n",
    "\n",
    "# 3. 출력\n",
    "for s in strings:\n",
    "    print(is_palindrome(s))"
   ]
  }
 ],
 "metadata": {
  "kernelspec": {
   "display_name": "venv",
   "language": "python",
   "name": "python3"
  },
  "language_info": {
   "codemirror_mode": {
    "name": "ipython",
    "version": 3
   },
   "file_extension": ".py",
   "mimetype": "text/x-python",
   "name": "python",
   "nbconvert_exporter": "python",
   "pygments_lexer": "ipython3",
   "version": "3.12.4"
  }
 },
 "nbformat": 4,
 "nbformat_minor": 2
}
