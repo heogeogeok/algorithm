{
 "cells": [
  {
   "cell_type": "code",
   "execution_count": 1,
   "metadata": {},
   "outputs": [],
   "source": [
    "# 1. 입력 \n",
    "n = int(input())\n",
    "paper = [list(map(int, input().split())) for _ in range(n)]"
   ]
  },
  {
   "cell_type": "code",
   "execution_count": 14,
   "metadata": {},
   "outputs": [],
   "source": [
    "# 2. 반복\n",
    "def func(li, lj, ri, rj):\n",
    "    first_value = paper[li][lj]\n",
    "    is_consistent = True\n",
    "\n",
    "    # 2-1. 종료 조건\n",
    "    # 1) 한 칸인 경우\n",
    "    if ri - li == 1:\n",
    "        if first_value == 0:\n",
    "            return [1, 0]\n",
    "        else:\n",
    "            return [0, 1]\n",
    "        \n",
    "    # 2) 전체 색이 같은 경우\n",
    "    for i in range(li, ri):\n",
    "        for j in range(lj, rj):\n",
    "            if paper[i][j] != first_value:\n",
    "                is_consistent = False\n",
    "                break\n",
    "        if not is_consistent:\n",
    "            break\n",
    "    if is_consistent:\n",
    "        if first_value == 0:\n",
    "            return [1, 0]\n",
    "        else:\n",
    "            return [0, 1]\n",
    "        \n",
    "    # 2-2. 재귀 호출\n",
    "    mi = (li + ri) // 2\n",
    "    mj = (lj + rj) // 2\n",
    "    res = [0, 0]\n",
    "\n",
    "    rec1 = func(li, lj, mi, mj) # 왼쪽 위\n",
    "    rec2 = func(li, mj, mi, rj) # 오른쪽 위\n",
    "    rec3 = func(mi, lj, ri, mj) # 왼쪽 아래\n",
    "    rec4 = func(mi, mj, ri, rj) # 오른쪽 아래\n",
    "\n",
    "    # 2-3. 데이터 통합\n",
    "    res[0] = rec1[0] + rec2[0] + rec3[0] + rec4[0]\n",
    "    res[1] = rec1[1] + rec2[1] + rec3[1] + rec4[1]\n",
    "\n",
    "    return res"
   ]
  },
  {
   "cell_type": "code",
   "execution_count": 15,
   "metadata": {},
   "outputs": [
    {
     "name": "stdout",
     "output_type": "stream",
     "text": [
      "9\n",
      "7\n"
     ]
    }
   ],
   "source": [
    "# 3. 출력\n",
    "res = func(0, 0, n, n)\n",
    "print(*res, sep=\"\\n\")"
   ]
  }
 ],
 "metadata": {
  "kernelspec": {
   "display_name": "venv",
   "language": "python",
   "name": "python3"
  },
  "language_info": {
   "codemirror_mode": {
    "name": "ipython",
    "version": 3
   },
   "file_extension": ".py",
   "mimetype": "text/x-python",
   "name": "python",
   "nbconvert_exporter": "python",
   "pygments_lexer": "ipython3",
   "version": "3.12.4"
  }
 },
 "nbformat": 4,
 "nbformat_minor": 2
}
