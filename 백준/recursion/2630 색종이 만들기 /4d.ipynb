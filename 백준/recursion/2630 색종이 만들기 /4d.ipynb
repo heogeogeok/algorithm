{
 "cells": [
  {
   "cell_type": "code",
   "execution_count": 1,
   "metadata": {},
   "outputs": [],
   "source": [
    "n = 8\n",
    "paper = [\n",
    "    [1, 1, 0, 0, 0, 0, 1, 1],\n",
    "    [1, 1, 0, 0, 0, 0, 1, 1],\n",
    "    [0, 0, 0, 0, 1, 1, 0, 0],\n",
    "    [0, 0, 0, 0, 1, 1, 0, 0],\n",
    "    [1, 0, 0, 0, 1, 1, 1, 1],\n",
    "    [0, 1, 0, 0, 1, 1, 1, 1],\n",
    "    [0, 0, 1, 1, 1, 1, 1, 1],\n",
    "    [0, 0, 1, 1, 1, 1, 1, 1]\n",
    "]"
   ]
  },
  {
   "cell_type": "code",
   "execution_count": 2,
   "metadata": {},
   "outputs": [],
   "source": [
    "def func(li, lj, ri, rj):\n",
    "    if ri - li == 1:\n",
    "        if paper[li][lj] == 0:\n",
    "            return [1, 0]\n",
    "        else:\n",
    "            return [0, 1]\n",
    "    \n",
    "    first_value = paper[li][lj]\n",
    "    is_consistent = True\n",
    "    for i in range(li, ri):\n",
    "        for j in range(lj, rj):\n",
    "            if first_value != paper[i][j]:\n",
    "                is_consistent = False\n",
    "                break\n",
    "        if not is_consistent:\n",
    "            break\n",
    "    if is_consistent:\n",
    "        if first_value == 0:\n",
    "            return [1, 0]\n",
    "        else:\n",
    "            return [0, 1]\n",
    "    \n",
    "    mi = (li + ri) // 2\n",
    "    mj = (lj + rj) // 2\n",
    "    res = [0, 0]\n",
    "\n",
    "    rec1 = func(li, lj, mi, mj)\n",
    "    rec2 = func(li, mj, mi, rj)\n",
    "    rec3 = func(mi, lj, ri, mj)\n",
    "    rec4 = func(mi, mj, ri, rj)\n",
    "\n",
    "    res[0] = rec1[0] + rec2[0] + rec3[0] + rec4[0]\n",
    "    res[1] = rec1[1] + rec2[1] + rec3[1] + rec4[1]\n",
    "\n",
    "    return res\n"
   ]
  },
  {
   "cell_type": "code",
   "execution_count": 4,
   "metadata": {},
   "outputs": [
    {
     "name": "stdout",
     "output_type": "stream",
     "text": [
      "9\n",
      "7\n"
     ]
    }
   ],
   "source": [
    "res = func(0, 0, n, n)\n",
    "print(*res, sep='\\n')"
   ]
  },
  {
   "cell_type": "code",
   "execution_count": null,
   "metadata": {},
   "outputs": [],
   "source": []
  }
 ],
 "metadata": {
  "kernelspec": {
   "display_name": "venv",
   "language": "python",
   "name": "python3"
  },
  "language_info": {
   "codemirror_mode": {
    "name": "ipython",
    "version": 3
   },
   "file_extension": ".py",
   "mimetype": "text/x-python",
   "name": "python",
   "nbconvert_exporter": "python",
   "pygments_lexer": "ipython3",
   "version": "3.12.4"
  }
 },
 "nbformat": 4,
 "nbformat_minor": 2
}
