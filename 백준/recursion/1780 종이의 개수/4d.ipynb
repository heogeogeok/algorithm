{
 "cells": [
  {
   "cell_type": "code",
   "execution_count": 5,
   "metadata": {},
   "outputs": [],
   "source": [
    "n = 9\n",
    "paper = [\n",
    "    [0, 0, 0, 1, 1, 1, -1, -1, -1],\n",
    "    [0, 0, 0, 1, 1, 1, -1, -1, -1],\n",
    "    [0, 0, 0, 1, 1, 1, -1, -1, -1],\n",
    "    [1, 1, 1, 0, 0, 0, 0, 0, 0],\n",
    "    [1, 1, 1, 0, 0, 0, 0, 0, 0],\n",
    "    [1, 1, 1, 0, 0, 0, 0, 0, 0],\n",
    "    [0, 1, -1, 0, 1, -1, 0, 1, -1],\n",
    "    [0, -1, 1, 0, 1, -1, 0, 1, -1],\n",
    "    [0, 1, -1, 1, 0, -1, 0, 1, -1]\n",
    "]"
   ]
  },
  {
   "cell_type": "code",
   "execution_count": 3,
   "metadata": {},
   "outputs": [],
   "source": [
    "def func(li, lj, ri, rj):\n",
    "    if ri - li == 1:\n",
    "        if paper[li][lj] == -1:\n",
    "            return [1, 0, 0]\n",
    "        elif paper[li][lj] == 0:\n",
    "            return [0, 1, 0]\n",
    "        else:\n",
    "            return [0, 0, 1]\n",
    "    is_consistent = True\n",
    "    first_value = paper[li][lj]\n",
    "    for i in range(li, ri):\n",
    "        for j in range(lj, rj):\n",
    "            if first_value != paper[i][j]:\n",
    "                is_consistent = False\n",
    "                break\n",
    "        if not is_consistent:\n",
    "            break \n",
    "    if is_consistent:\n",
    "        if first_value == -1:\n",
    "            return [1, 0, 0]\n",
    "        elif first_value == 0:\n",
    "            return [0, 1, 0]\n",
    "        else:\n",
    "            return [0, 0, 1]\n",
    "    \n",
    "    res = [0, 0, 0]\n",
    "    sub_size = (ri - li) // 3\n",
    "\n",
    "    res1 = func(li, lj, li + sub_size, lj + sub_size)\n",
    "    res2 = func(li, lj + sub_size, li + sub_size, lj + 2 * sub_size)\n",
    "    res3 = func(li, lj + 2 * sub_size, li + sub_size, rj)\n",
    "\n",
    "    res4 = func(li + sub_size, lj, li + 2 * sub_size, lj + sub_size)\n",
    "    res5 = func(li + sub_size, lj + sub_size, li + 2 * sub_size, lj + 2 * sub_size)\n",
    "    res6 = func(li + sub_size, lj + 2 * sub_size, li + 2 * sub_size ,rj)\n",
    "\n",
    "    res7 = func(li + 2 * sub_size, lj, ri, lj + sub_size)\n",
    "    res8 = func(li + 2 * sub_size, lj + sub_size, ri, lj + 2 * sub_size)\n",
    "    res9 = func(li + 2 * sub_size, lj + 2 * sub_size, ri, rj)\n",
    "    \n",
    "    res[0] = res1[0] + res2[0] + res3[0] + res4[0] + res5[0] + res6[0] + res7[0] + res8[0] + res9[0]\n",
    "    res[1] = res1[1] + res2[1] + res3[1] + res4[1] + res5[1] + res6[1] + res7[1] + res8[1] + res9[1]\n",
    "    res[2] = res1[2] + res2[2] + res3[2] + res4[2] + res5[2] + res6[2] + res7[2] + res8[2] + res9[2]\n",
    "\n",
    "    return res\n",
    "\n",
    "\n"
   ]
  },
  {
   "cell_type": "code",
   "execution_count": 7,
   "metadata": {},
   "outputs": [
    {
     "name": "stdout",
     "output_type": "stream",
     "text": [
      "10\n",
      "12\n",
      "11\n"
     ]
    }
   ],
   "source": [
    "res = func(0, 0, n, n)\n",
    "print(*res, sep='\\n')"
   ]
  },
  {
   "cell_type": "code",
   "execution_count": null,
   "metadata": {},
   "outputs": [],
   "source": []
  }
 ],
 "metadata": {
  "kernelspec": {
   "display_name": "venv",
   "language": "python",
   "name": "python3"
  },
  "language_info": {
   "codemirror_mode": {
    "name": "ipython",
    "version": 3
   },
   "file_extension": ".py",
   "mimetype": "text/x-python",
   "name": "python",
   "nbconvert_exporter": "python",
   "pygments_lexer": "ipython3",
   "version": "3.12.4"
  }
 },
 "nbformat": 4,
 "nbformat_minor": 2
}
