{
 "cells": [
  {
   "cell_type": "code",
   "execution_count": null,
   "metadata": {},
   "outputs": [],
   "source": [
    "n = int(input())\n",
    "paper = [list(map(int, input().split())) for _ in range(n)]"
   ]
  },
  {
   "cell_type": "code",
   "execution_count": 1,
   "metadata": {},
   "outputs": [],
   "source": [
    "n = 9\n",
    "paper = [\n",
    "    [0, 0, 0, 1, 1, 1, -1, -1, -1],\n",
    "    [0, 0, 0, 1, 1, 1, -1, -1, -1],\n",
    "    [0, 0, 0, 1, 1, 1, -1, -1, -1],\n",
    "    [1, 1, 1, 0, 0, 0, 0, 0, 0],\n",
    "    [1, 1, 1, 0, 0, 0, 0, 0, 0],\n",
    "    [1, 1, 1, 0, 0, 0, 0, 0, 0],\n",
    "    [0, 1, -1, 0, 1, -1, 0, 1, -1],\n",
    "    [0, -1, 1, 0, 1, -1, 0, 1, -1],\n",
    "    [0, 1, -1, 1, 0, -1, 0, 1, -1]\n",
    "]"
   ]
  },
  {
   "cell_type": "code",
   "execution_count": 2,
   "metadata": {},
   "outputs": [],
   "source": [
    "def func(li, lj, ri, rj):\n",
    "    if ri - li == 1:\n",
    "        if paper[li][lj] == -1:\n",
    "            return [1, 0, 0]\n",
    "        elif paper[li][lj] == 0:\n",
    "            return [0, 1, 0]\n",
    "        else:\n",
    "            return [0, 0, 1]\n",
    "        \n",
    "    first_value = paper[li][lj]\n",
    "    is_consistent = True\n",
    "    for i in range(li, ri):\n",
    "        for j in range(lj, rj):\n",
    "            if first_value != paper[i][j]:\n",
    "                is_consistent = False\n",
    "                break \n",
    "        if not is_consistent:\n",
    "            break \n",
    "    if is_consistent:\n",
    "        if first_value == -1:\n",
    "            return [1, 0, 0]\n",
    "        elif first_value == 0:\n",
    "            return [0, 1, 0]\n",
    "        else:\n",
    "            return [0, 0, 1]\n",
    "    \n",
    "    res = [0, 0, 0]\n",
    "    sub_size = (ri - li) // 3 \n",
    "    \n",
    "    rec1 = func(li, lj, li + sub_size, lj + sub_size)                       \n",
    "    rec2 = func(li, lj + sub_size, li + sub_size, lj + 2 * sub_size)              \n",
    "    rec3 = func(li, lj + 2 * sub_size, li + sub_size, rj)                       \n",
    "    rec4 = func(li + sub_size, lj, li + 2 * sub_size, lj + sub_size)              \n",
    "    rec5 = func(li + sub_size, lj + sub_size, li + 2 * sub_size, lj + 2 * sub_size)\n",
    "    rec6 = func(li + sub_size, lj + 2 * sub_size, li + 2 * sub_size, rj)          \n",
    "    rec7 = func(li + 2 * sub_size, lj, ri, lj + sub_size)                      \n",
    "    rec8 = func(li + 2 * sub_size, lj + sub_size, ri, lj + 2 * sub_size)      \n",
    "    rec9 = func(li + 2 * sub_size, lj + 2 * sub_size, ri, rj)                   \n",
    "    \n",
    "    res[0] = rec1[0] + rec2[0] + rec3[0] + rec4[0] + rec5[0] + rec6[0] + rec7[0] + rec8[0] + rec9[0]\n",
    "    res[1] = rec1[1] + rec2[1] + rec3[1] + rec4[1] + rec5[1] + rec6[1] + rec7[1] + rec8[1] + rec9[1]\n",
    "    res[2] = rec1[2] + rec2[2] + rec3[2] + rec4[2] + rec5[2] + rec6[2] + rec7[2] + rec8[2] + rec9[2]\n",
    "\n",
    "    return res\n"
   ]
  },
  {
   "cell_type": "code",
   "execution_count": 6,
   "metadata": {},
   "outputs": [
    {
     "name": "stdout",
     "output_type": "stream",
     "text": [
      "10\n",
      "12\n",
      "11\n"
     ]
    }
   ],
   "source": [
    "res = func(0, 0, n, n)\n",
    "print(*res, sep='\\n')"
   ]
  }
 ],
 "metadata": {
  "kernelspec": {
   "display_name": "venv",
   "language": "python",
   "name": "python3"
  },
  "language_info": {
   "codemirror_mode": {
    "name": "ipython",
    "version": 3
   },
   "file_extension": ".py",
   "mimetype": "text/x-python",
   "name": "python",
   "nbconvert_exporter": "python",
   "pygments_lexer": "ipython3",
   "version": "3.12.4"
  }
 },
 "nbformat": 4,
 "nbformat_minor": 2
}
