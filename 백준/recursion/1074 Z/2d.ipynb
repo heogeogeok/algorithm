{
 "cells": [
  {
   "cell_type": "code",
   "execution_count": null,
   "metadata": {},
   "outputs": [],
   "source": [
    "def func(li, lj, ri, rj, r, c, count):\n",
    "    # 1. base case\n",
    "    if ri - li == 1:\n",
    "        if li == r and lj == c:\n",
    "            return count\n",
    "        return count + 1\n",
    "\n",
    "    # 2. recursive case\n",
    "    mi = (li + ri) // 2\n",
    "    mj = (lj + rj) // 2\n",
    "\n",
    "    # 왼쪽 위\n",
    "    if r < mi and c < mj:\n",
    "        return func(li, lj, mi, mj, r, c, count)\n",
    "    # 오른쪽 위\n",
    "    elif r < mi and c >= mj:\n",
    "        return func(li, mj, mi, rj, r, c, count + (mi - li) * (mj - lj))\n",
    "    # 왼쪽 아래\n",
    "    elif r >= mi and c < mj:\n",
    "        return func(mi, lj, ri, mj, r, c, count + 2 * (mi - li) * (mj - lj))\n",
    "    # 오른쪽 아래\n",
    "    else:\n",
    "        return func(mi, mj, ri, rj, r, c, count + 3  * (mi - li) * (mj - lj))\n"
   ]
  },
  {
   "cell_type": "code",
   "execution_count": 3,
   "metadata": {},
   "outputs": [
    {
     "name": "stdout",
     "output_type": "stream",
     "text": [
      "11\n"
     ]
    }
   ],
   "source": [
    "n, r, c = map(int, input().split())\n",
    "print(func(0, 0, 2**n, 2**n, r, c, 0))"
   ]
  }
 ],
 "metadata": {
  "kernelspec": {
   "display_name": "venv",
   "language": "python",
   "name": "python3"
  },
  "language_info": {
   "codemirror_mode": {
    "name": "ipython",
    "version": 3
   },
   "file_extension": ".py",
   "mimetype": "text/x-python",
   "name": "python",
   "nbconvert_exporter": "python",
   "pygments_lexer": "ipython3",
   "version": "3.12.4"
  }
 },
 "nbformat": 4,
 "nbformat_minor": 2
}
