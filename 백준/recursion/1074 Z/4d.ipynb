{
 "cells": [
  {
   "cell_type": "code",
   "execution_count": 4,
   "metadata": {},
   "outputs": [],
   "source": [
    "n, r, c = 2, 3, 1"
   ]
  },
  {
   "cell_type": "code",
   "execution_count": 5,
   "metadata": {},
   "outputs": [],
   "source": [
    "def z(li, lj, ri, rj, r, c, count):\n",
    "    if ri - li == 1:\n",
    "        if li == r and lj == c:\n",
    "            return count\n",
    "        else:\n",
    "            return count + 1\n",
    "\n",
    "    mi = (li + ri) // 2\n",
    "    mj = (lj + rj) / 2\n",
    "\n",
    "    if r < mi and c < mj:\n",
    "        return z(li, lj, mi, mj, r, c, count)\n",
    "    elif r < mi and c >= mj:\n",
    "        return z(li, mj, mi, rj, r, c, count + (mi - li) * (mj - lj))\n",
    "    elif r >= mi and c < mj:\n",
    "        return z(mi, lj, ri, mj, r, c, count + 2 * (mi - li) * (mj - lj))\n",
    "    else:\n",
    "        return z(mi, mj, ri, rj, r, c, count + 3 * (mi - li) * (mj - lj))"
   ]
  },
  {
   "cell_type": "code",
   "execution_count": 6,
   "metadata": {},
   "outputs": [
    {
     "name": "stdout",
     "output_type": "stream",
     "text": [
      "11.0\n"
     ]
    }
   ],
   "source": [
    "print(z(0, 0, 2**n, 2**n, r, c, 0))"
   ]
  },
  {
   "cell_type": "code",
   "execution_count": null,
   "metadata": {},
   "outputs": [],
   "source": []
  }
 ],
 "metadata": {
  "kernelspec": {
   "display_name": "venv",
   "language": "python",
   "name": "python3"
  },
  "language_info": {
   "codemirror_mode": {
    "name": "ipython",
    "version": 3
   },
   "file_extension": ".py",
   "mimetype": "text/x-python",
   "name": "python",
   "nbconvert_exporter": "python",
   "pygments_lexer": "ipython3",
   "version": "3.12.4"
  }
 },
 "nbformat": 4,
 "nbformat_minor": 2
}
