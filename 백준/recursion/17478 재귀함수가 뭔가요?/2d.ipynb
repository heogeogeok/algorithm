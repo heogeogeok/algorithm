{
 "cells": [
  {
   "cell_type": "code",
   "execution_count": null,
   "metadata": {},
   "outputs": [],
   "source": [
    "# 1. 입력 처리\n",
    "n = int(input())\n",
    "\n",
    "# 2. 반복문 처리\n",
    "def chatbot(depth, n):\n",
    "    indent = '____' * depth\n",
    "    print(indent + '\"재귀함수가 뭔가요?\"')\n",
    "    # 2-1. 종료 조건\n",
    "    if depth == n:\n",
    "        print(indent + '\"재귀함수는 자기 자신을 호출하는 함수라네\"')\n",
    "    # 2-2. 재귀 호출\n",
    "    else:\n",
    "        print(indent + '\"잘 들어보게. 옛날옛날 한 산 꼭대기에 이세상 모든 지식을 통달한 선인이 있었어.')\n",
    "        print(indent + '마을 사람들은 모두 그 선인에게 수많은 질문을 했고, 모두 지혜롭게 대답해 주었지.')\n",
    "        print(indent + '그의 답은 대부분 옳았다고 하네. 그런데 어느 날, 그 선인에게 한 선비가 찾아와서 물었어.\"')\n",
    "        chatbot(depth + 1, n)\n",
    "    # 2-3. 데이터 통합\n",
    "    print(indent + '라고 답변하였지.')\n",
    "\n",
    "# 3. 출력\n",
    "chatbot(0, n)"
   ]
  }
 ],
 "metadata": {
  "kernelspec": {
   "display_name": "venv",
   "language": "python",
   "name": "python3"
  },
  "language_info": {
   "codemirror_mode": {
    "name": "ipython",
    "version": 3
   },
   "file_extension": ".py",
   "mimetype": "text/x-python",
   "name": "python",
   "nbconvert_exporter": "python",
   "pygments_lexer": "ipython3",
   "version": "3.12.4"
  }
 },
 "nbformat": 4,
 "nbformat_minor": 2
}
