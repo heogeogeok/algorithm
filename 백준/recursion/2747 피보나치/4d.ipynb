{
 "cells": [
  {
   "cell_type": "code",
   "execution_count": 5,
   "metadata": {},
   "outputs": [
    {
     "name": "stdout",
     "output_type": "stream",
     "text": [
      "144\n"
     ]
    }
   ],
   "source": [
    "n = 12\n",
    "\n",
    "a = 0\n",
    "b = 1 \n",
    "for _ in range(2, n + 1):\n",
    "    a, b = b, a + b\n",
    "print(b)"
   ]
  },
  {
   "cell_type": "code",
   "execution_count": 8,
   "metadata": {},
   "outputs": [
    {
     "name": "stdout",
     "output_type": "stream",
     "text": [
      "144\n"
     ]
    }
   ],
   "source": [
    "n = 10\n",
    "def fibonacci(n):\n",
    "    if n == 1:\n",
    "        return 1\n",
    "    if n == 0:\n",
    "        return 0\n",
    "    return fibonacci(n-1) + fibonacci(n-2)\n",
    "print(fibonacci(12))"
   ]
  }
 ],
 "metadata": {
  "kernelspec": {
   "display_name": "venv",
   "language": "python",
   "name": "python3"
  },
  "language_info": {
   "codemirror_mode": {
    "name": "ipython",
    "version": 3
   },
   "file_extension": ".py",
   "mimetype": "text/x-python",
   "name": "python",
   "nbconvert_exporter": "python",
   "pygments_lexer": "ipython3",
   "version": "3.12.4"
  }
 },
 "nbformat": 4,
 "nbformat_minor": 2
}
