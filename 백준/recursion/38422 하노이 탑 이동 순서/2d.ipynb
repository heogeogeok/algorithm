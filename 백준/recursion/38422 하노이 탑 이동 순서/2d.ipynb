{
 "cells": [
  {
   "cell_type": "code",
   "execution_count": 2,
   "metadata": {},
   "outputs": [
    {
     "name": "stdout",
     "output_type": "stream",
     "text": [
      "7\n",
      "1 3\n",
      "1 2\n",
      "3 2\n",
      "1 3\n",
      "2 1\n",
      "2 3\n",
      "1 3\n"
     ]
    }
   ],
   "source": [
    "n = int(input())\n",
    "\n",
    "def hanoi_tower(n, start, end):\n",
    "    # 1. 종료 조건 \n",
    "    if n == 1:\n",
    "        print(start, end)\n",
    "        return\n",
    "    # 2. 재귀 호출\n",
    "    hanoi_tower(n-1, start, 6-start-end)\n",
    "    print(start, end)\n",
    "    hanoi_tower(n-1, 6-start-end, end)\n",
    "\n",
    "print(2**n-1)\n",
    "hanoi_tower(n, 1, 3)"
   ]
  }
 ],
 "metadata": {
  "kernelspec": {
   "display_name": "venv",
   "language": "python",
   "name": "python3"
  },
  "language_info": {
   "codemirror_mode": {
    "name": "ipython",
    "version": 3
   },
   "file_extension": ".py",
   "mimetype": "text/x-python",
   "name": "python",
   "nbconvert_exporter": "python",
   "pygments_lexer": "ipython3",
   "version": "3.12.4"
  }
 },
 "nbformat": 4,
 "nbformat_minor": 2
}
