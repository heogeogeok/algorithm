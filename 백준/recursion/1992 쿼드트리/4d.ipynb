{
 "cells": [
  {
   "cell_type": "code",
   "execution_count": 1,
   "metadata": {},
   "outputs": [],
   "source": [
    "n = int(input())\n",
    "quadtree = [list(map(int, input().strip())) for _ in range(n)]"
   ]
  },
  {
   "cell_type": "code",
   "execution_count": 2,
   "metadata": {},
   "outputs": [
    {
     "name": "stdout",
     "output_type": "stream",
     "text": [
      "[[1, 1, 1, 1, 0, 0, 0, 0], [1, 1, 1, 1, 0, 0, 0, 0], [0, 0, 0, 1, 1, 1, 0, 0], [0, 0, 0, 1, 1, 1, 0, 0], [1, 1, 1, 1, 0, 0, 0, 0], [1, 1, 1, 1, 0, 0, 0, 0], [1, 1, 1, 1, 0, 0, 1, 1], [1, 1, 1, 1, 0, 0, 1, 1]]\n"
     ]
    }
   ],
   "source": [
    "print(quadtree)"
   ]
  },
  {
   "cell_type": "code",
   "execution_count": null,
   "metadata": {},
   "outputs": [],
   "source": [
    "def func(li, lj, ri, rj):\n",
    "    if ri - li == 1:\n",
    "        return str(quadtree[li][lj])\n",
    "    \n",
    "    is_consistent = True \n",
    "    first_value = quadtree[li][lj]\n",
    "    for i in range(li, ri):\n",
    "        for j in range(lj, rj):\n",
    "            if first_value != quadtree[i][j]:\n",
    "                is_consistent = False\n",
    "                break \n",
    "        if not is_consistent:\n",
    "            break\n",
    "    if is_consistent:\n",
    "        return str(first_value)\n",
    "    \n",
    "    mi = (li + ri) // 2\n",
    "    mj = (lj + rj) // 2\n",
    "\n",
    "    top_left = func(li, lj, mi, mj)\n",
    "    top_right = func(li, mj, mi, rj)\n",
    "    bottom_left = func(mi, lj, ri, mj)\n",
    "    bottom_right = func(mi, mj, ri, rj)\n",
    "\n",
    "    return \"(\" + top_left + top_right + bottom_left + bottom_right + \")\"\n",
    "    "
   ]
  },
  {
   "cell_type": "code",
   "execution_count": 7,
   "metadata": {},
   "outputs": [
    {
     "name": "stdout",
     "output_type": "stream",
     "text": [
      "((110(0101))(0010)1(0001))\n"
     ]
    }
   ],
   "source": [
    "print(func(0, 0, n, n))"
   ]
  }
 ],
 "metadata": {
  "kernelspec": {
   "display_name": "venv",
   "language": "python",
   "name": "python3"
  },
  "language_info": {
   "codemirror_mode": {
    "name": "ipython",
    "version": 3
   },
   "file_extension": ".py",
   "mimetype": "text/x-python",
   "name": "python",
   "nbconvert_exporter": "python",
   "pygments_lexer": "ipython3",
   "version": "3.12.4"
  }
 },
 "nbformat": 4,
 "nbformat_minor": 2
}
