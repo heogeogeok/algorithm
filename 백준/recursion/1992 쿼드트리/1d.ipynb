{
 "cells": [
  {
   "cell_type": "code",
   "execution_count": 14,
   "metadata": {},
   "outputs": [],
   "source": [
    "# 1. 입력\n",
    "n = int(input())\n",
    "quadtree = [list(map(int, input().strip())) for _ in range(n)]"
   ]
  },
  {
   "cell_type": "code",
   "execution_count": 15,
   "metadata": {},
   "outputs": [],
   "source": [
    "# 2. 반복\n",
    "def func(li, lj, ri, rj):\n",
    "    # 2-1. 종료 조건\n",
    "    # 1) 한 칸인 경우\n",
    "    if ri - li == 1:\n",
    "        return str(quadtree[li][lj])\n",
    "\n",
    "    # 2) 전체 색이 같은 경우\n",
    "    first_value = quadtree[li][lj]\n",
    "    is_consistent = True\n",
    "    \n",
    "    for i in range(li, ri):\n",
    "        for j in range(lj, rj):\n",
    "            if first_value != quadtree[i][j]:\n",
    "                is_consistent = False\n",
    "                break \n",
    "        if not is_consistent:\n",
    "            break\n",
    "\n",
    "    if is_consistent:\n",
    "        return str(first_value)\n",
    "\n",
    "    # 2-2. 재귀 호출\n",
    "    mi = (li + ri) // 2\n",
    "    mj = (lj + rj) // 2\n",
    "    top_left = func(li, lj, mi, mj)\n",
    "    top_right = func(li, mj, mi, rj)\n",
    "    bottom_left = func(mi, lj, ri, mj)\n",
    "    bottom_right = func(mi, mj, ri, rj)\n",
    "\n",
    "    # 2-3. 데이터 통합\n",
    "    return \"(\" + top_left + top_right + bottom_left + bottom_right + \")\" "
   ]
  },
  {
   "cell_type": "code",
   "execution_count": 16,
   "metadata": {},
   "outputs": [
    {
     "name": "stdout",
     "output_type": "stream",
     "text": [
      "((110(0101))(0010)1(0001))\n"
     ]
    }
   ],
   "source": [
    "print(func(0, 0, n, n))"
   ]
  }
 ],
 "metadata": {
  "kernelspec": {
   "display_name": "venv",
   "language": "python",
   "name": "python3"
  },
  "language_info": {
   "codemirror_mode": {
    "name": "ipython",
    "version": 3
   },
   "file_extension": ".py",
   "mimetype": "text/x-python",
   "name": "python",
   "nbconvert_exporter": "python",
   "pygments_lexer": "ipython3",
   "version": "3.12.4"
  }
 },
 "nbformat": 4,
 "nbformat_minor": 2
}
