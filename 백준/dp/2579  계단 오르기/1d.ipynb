{
 "cells": [
  {
   "cell_type": "code",
   "execution_count": 11,
   "metadata": {},
   "outputs": [],
   "source": [
    "n = 6\n",
    "arr = [10, 20, 15, 25, 10, 20]"
   ]
  },
  {
   "cell_type": "code",
   "execution_count": null,
   "metadata": {},
   "outputs": [
    {
     "name": "stdout",
     "output_type": "stream",
     "text": [
      "75\n"
     ]
    }
   ],
   "source": [
    "dp = [0] * (n + 1)\n",
    "dp[1] = arr[0]\n",
    "if n > 1:\n",
    "    dp[2] = arr[0] + arr[1]\n",
    "if n > 2:\n",
    "    dp[3] = max(arr[1] + arr[2], arr[0] + arr[2])\n",
    "if n > 3:\n",
    "    for i in range(4, n + 1):\n",
    "        dp[i] = max(arr[i-2] + dp[i-3], dp[i-2]) + arr[i-1]\n",
    "\n",
    "print(dp[n])"
   ]
  }
 ],
 "metadata": {
  "kernelspec": {
   "display_name": "venv",
   "language": "python",
   "name": "python3"
  },
  "language_info": {
   "codemirror_mode": {
    "name": "ipython",
    "version": 3
   },
   "file_extension": ".py",
   "mimetype": "text/x-python",
   "name": "python",
   "nbconvert_exporter": "python",
   "pygments_lexer": "ipython3",
   "version": "3.12.4"
  }
 },
 "nbformat": 4,
 "nbformat_minor": 2
}
