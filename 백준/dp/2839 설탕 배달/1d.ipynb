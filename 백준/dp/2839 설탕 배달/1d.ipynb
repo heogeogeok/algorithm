{
 "cells": [
  {
   "cell_type": "code",
   "execution_count": 30,
   "metadata": {},
   "outputs": [
    {
     "name": "stdout",
     "output_type": "stream",
     "text": [
      "-1\n"
     ]
    }
   ],
   "source": [
    "N = int(input())\n",
    "dp = [-1] * (N + 1)\n",
    "\n",
    "if N >= 3:\n",
    "    dp[3] = 1\n",
    "if N >= 5:\n",
    "    dp[5] = 1\n",
    "\n",
    "for i in range(6, N + 1):\n",
    "    candidates = []\n",
    "    if dp[i -3] != -1:\n",
    "        candidates.append(1+ dp[i - 3])\n",
    "    if dp[i - 5] != -1:\n",
    "        candidates.append(1 + dp[i - 5])\n",
    "    if candidates:\n",
    "        dp[i] = min(candidates)\n",
    "print(dp[N])"
   ]
  }
 ],
 "metadata": {
  "kernelspec": {
   "display_name": "venv",
   "language": "python",
   "name": "python3"
  },
  "language_info": {
   "codemirror_mode": {
    "name": "ipython",
    "version": 3
   },
   "file_extension": ".py",
   "mimetype": "text/x-python",
   "name": "python",
   "nbconvert_exporter": "python",
   "pygments_lexer": "ipython3",
   "version": "3.12.4"
  }
 },
 "nbformat": 4,
 "nbformat_minor": 2
}
