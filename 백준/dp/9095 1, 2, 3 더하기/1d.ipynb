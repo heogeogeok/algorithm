{
 "cells": [
  {
   "cell_type": "code",
   "execution_count": 19,
   "metadata": {},
   "outputs": [
    {
     "name": "stdout",
     "output_type": "stream",
     "text": [
      "7\n",
      "44\n",
      "274\n"
     ]
    }
   ],
   "source": [
    "# 1. Brute force\n",
    "from itertools import product\n",
    "t = int(input())\n",
    "arr = [int(input()) for _ in range(t)]\n",
    "\n",
    "for n in arr:\n",
    "    valid_cases = [case for i in range(1, n + 2) for case in product([1, 2, 3], repeat=i) if sum(case) == n]\n",
    "    print(len(valid_cases))"
   ]
  },
  {
   "cell_type": "code",
   "execution_count": 17,
   "metadata": {},
   "outputs": [
    {
     "name": "stdout",
     "output_type": "stream",
     "text": [
      "7\n",
      "44\n",
      "274\n"
     ]
    }
   ],
   "source": [
    "# 2. DP\n",
    "t = int(input())\n",
    "arr = [int(input()) for _ in range(t)]\n",
    "\n",
    "for n in arr:\n",
    "    dp = [0] * (n + 1)\n",
    "    for i in range(1, n + 1): \n",
    "        if i == 1:\n",
    "            dp[1] = 1\n",
    "        elif i == 2:\n",
    "            dp[2] = 2\n",
    "        elif i == 3:\n",
    "            dp[i] = 4\n",
    "        else:\n",
    "            dp[i] = dp[i -1] + dp[i - 2] + dp[i - 3]\n",
    "    print(dp[n])"
   ]
  }
 ],
 "metadata": {
  "kernelspec": {
   "display_name": "venv",
   "language": "python",
   "name": "python3"
  },
  "language_info": {
   "codemirror_mode": {
    "name": "ipython",
    "version": 3
   },
   "file_extension": ".py",
   "mimetype": "text/x-python",
   "name": "python",
   "nbconvert_exporter": "python",
   "pygments_lexer": "ipython3",
   "version": "3.12.4"
  }
 },
 "nbformat": 4,
 "nbformat_minor": 2
}
