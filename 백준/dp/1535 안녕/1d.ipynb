{
 "cells": [
  {
   "cell_type": "code",
   "execution_count": null,
   "metadata": {},
   "outputs": [],
   "source": [
    "n = int(input())\n",
    "l = list(map(int, input().split()))\n",
    "j = list(map(int, input().split()))\n",
    "\n",
    "dp = [[0] * 101 for _ in range(n + 1)]\n",
    "l, j = [0] + l, [0] + j\n",
    "for i in range(1, n + 1):\n",
    "    for w in range(1, 101):\n",
    "        if l[i] <= w:\n",
    "            dp[i][w] = max(dp[i-1][w], dp[i-1][w-l[i]] + j[i])\n",
    "        else:\n",
    "            dp[i][w] = dp[i - 1][w]\n",
    "\n",
    "print(dp[n][99])"
   ]
  },
  {
   "cell_type": "code",
   "execution_count": null,
   "metadata": {},
   "outputs": [],
   "source": []
  }
 ],
 "metadata": {
  "kernelspec": {
   "display_name": "venv",
   "language": "python",
   "name": "python3"
  },
  "language_info": {
   "codemirror_mode": {
    "name": "ipython",
    "version": 3
   },
   "file_extension": ".py",
   "mimetype": "text/x-python",
   "name": "python",
   "nbconvert_exporter": "python",
   "pygments_lexer": "ipython3",
   "version": "3.12.4"
  }
 },
 "nbformat": 4,
 "nbformat_minor": 2
}
