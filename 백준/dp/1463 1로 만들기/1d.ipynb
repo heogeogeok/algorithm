{
 "cells": [
  {
   "cell_type": "code",
   "execution_count": 14,
   "metadata": {},
   "outputs": [
    {
     "name": "stdout",
     "output_type": "stream",
     "text": [
      "3\n"
     ]
    }
   ],
   "source": [
    "n = int(input())\n",
    "dp = [0] * (n + 1)\n",
    "for i in range(2, n + 1):\n",
    "    candidates = []\n",
    "    if i % 3 == 0:\n",
    "        candidates.append(1 + dp[i // 3])\n",
    "    if i % 2 == 0:\n",
    "        candidates.append(1 + dp[i // 2])\n",
    "    candidates.append(1 + dp[i - 1])\n",
    "\n",
    "    dp[i] = min(candidates)\n",
    "print(dp[n])"
   ]
  }
 ],
 "metadata": {
  "kernelspec": {
   "display_name": "venv",
   "language": "python",
   "name": "python3"
  },
  "language_info": {
   "codemirror_mode": {
    "name": "ipython",
    "version": 3
   },
   "file_extension": ".py",
   "mimetype": "text/x-python",
   "name": "python",
   "nbconvert_exporter": "python",
   "pygments_lexer": "ipython3",
   "version": "3.12.4"
  }
 },
 "nbformat": 4,
 "nbformat_minor": 2
}
