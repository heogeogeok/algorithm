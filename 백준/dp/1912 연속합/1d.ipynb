{
 "cells": [
  {
   "cell_type": "code",
   "execution_count": 7,
   "metadata": {},
   "outputs": [],
   "source": [
    "n = int(input())\n",
    "nums = list(map(int, input().split()))"
   ]
  },
  {
   "cell_type": "code",
   "execution_count": 8,
   "metadata": {},
   "outputs": [
    {
     "name": "stdout",
     "output_type": "stream",
     "text": [
      "14\n",
      "[2, 3, -1, 3, 7, 3, 9, 14, 9, 10]\n"
     ]
    }
   ],
   "source": [
    "dp = [0] * (n)\n",
    "dp[0]= nums[0]\n",
    "\n",
    "for i in range(1, n):\n",
    "    dp[i] = max(nums[i], dp[i-1] + nums[i])\n",
    "\n",
    "print(max(dp))\n",
    "print(dp)\n"
   ]
  }
 ],
 "metadata": {
  "kernelspec": {
   "display_name": "venv",
   "language": "python",
   "name": "python3"
  },
  "language_info": {
   "codemirror_mode": {
    "name": "ipython",
    "version": 3
   },
   "file_extension": ".py",
   "mimetype": "text/x-python",
   "name": "python",
   "nbconvert_exporter": "python",
   "pygments_lexer": "ipython3",
   "version": "3.12.4"
  }
 },
 "nbformat": 4,
 "nbformat_minor": 2
}
