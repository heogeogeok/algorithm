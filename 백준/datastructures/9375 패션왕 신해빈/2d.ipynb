{
 "cells": [
  {
   "cell_type": "code",
   "execution_count": 7,
   "metadata": {},
   "outputs": [
    {
     "name": "stdout",
     "output_type": "stream",
     "text": [
      "5\n"
     ]
    }
   ],
   "source": [
    "t = int(input())\n",
    "for _ in range(t):\n",
    "    n = int(input())\n",
    "    closet = {}\n",
    "    for _ in range(n):\n",
    "        name, category = input().split()\n",
    "        if category in closet:\n",
    "            closet[category].append(name)\n",
    "        else:\n",
    "            closet[category] = [name]\n",
    "    res = 1\n",
    "    for key in closet:\n",
    "        res *= (len(closet[key])) + 1\n",
    "    print(res - 1)\n",
    "    "
   ]
  }
 ],
 "metadata": {
  "kernelspec": {
   "display_name": "venv",
   "language": "python",
   "name": "python3"
  },
  "language_info": {
   "codemirror_mode": {
    "name": "ipython",
    "version": 3
   },
   "file_extension": ".py",
   "mimetype": "text/x-python",
   "name": "python",
   "nbconvert_exporter": "python",
   "pygments_lexer": "ipython3",
   "version": "3.12.4"
  }
 },
 "nbformat": 4,
 "nbformat_minor": 2
}
