{
 "cells": [
  {
   "cell_type": "markdown",
   "metadata": {
    "vscode": {
     "languageId": "plaintext"
    }
   },
   "source": [
    "### 사전지식 퀴즈 1: 스택(Stack)과 큐(Queue) 구분하기\n",
    "\n",
    "나중에 추가된 것이 먼저 사용되는 원리로 저장되는 자료구조를 스택이라고 합니다.   \"LIFO\" (Last In, First Out)입니다.    \n",
    "처음에 추가된 것이 먼저 사용되는 원리로 저장되는 자료구조를 큐라고 합니다. 큐는 \"FIFO\" (First In, First Out)입니다.     \n",
    "\n",
    "다음 예시 중 어떤 것이 스택이고, 어떤 것이 큐인지 구분해 보세요:\n",
    "\n",
    "1. 버스 정류장에서 줄 서서 버스를 타는 순서 - B\n",
    "2. 접시를 쌓아 올리고, 맨 위에서부터 하나씩 꺼내는 과정 - A\n",
    "3. 엘리베이터에서 사람들이 타고 내리는 순서 - A\n",
    "4. 웹 브라우저에서 뒤로가기 버튼을 눌러 이전 페이지로 이동하는 과정 - A\n",
    "\n",
    "- A: 스택, B: 큐"
   ]
  }
 ],
 "metadata": {
  "language_info": {
   "name": "python"
  }
 },
 "nbformat": 4,
 "nbformat_minor": 2
}
