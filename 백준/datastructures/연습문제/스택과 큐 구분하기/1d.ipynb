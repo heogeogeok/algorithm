{
 "cells": [
  {
   "cell_type": "markdown",
   "metadata": {},
   "source": [
    "### 배경지식 퀴즈 2: 딕셔너리의 여러 메서드 숙지"
   ]
  },
  {
   "cell_type": "code",
   "execution_count": 1,
   "metadata": {},
   "outputs": [
    {
     "name": "stdout",
     "output_type": "stream",
     "text": [
      "{'영수': 25, '민수': 30, '철수': 29}\n"
     ]
    }
   ],
   "source": [
    "# 딕셔너리(해시 테이블) 생성\n",
    "my_dict = {}\n",
    "my_dict['영수'] = 25\n",
    "my_dict['민수'] = 30\n",
    "my_dict['철수'] = 29\n",
    "print(my_dict)"
   ]
  },
  {
   "cell_type": "code",
   "execution_count": 12,
   "metadata": {},
   "outputs": [
    {
     "name": "stdout",
     "output_type": "stream",
     "text": [
      "{'철수': 30, '민준': 30}\n"
     ]
    }
   ],
   "source": [
    "# 영수의 나이를 print해 주세요.\n",
    "# TODO\n",
    "# print(my_dict['영수'])\n",
    "\n",
    "# 벨류 수정\n",
    "# 철수의 생일입니다. 철수의 나이를 30으로 업데이트해 주세요.\n",
    "# TODO\n",
    "# my_dict['철수'] = 30\n",
    "# print(my_dict)\n",
    "\n",
    "# 민수가 민준으로 개명했습니다. 민준의 이름을 업데이트해 주세요\n",
    "# TODO\n",
    "# my_dict['민준'] = my_dict.pop('민수')\n",
    "# print(my_dict)\n",
    "\n",
    "\n",
    "# 새 순서쌍 넣기\n",
    "# 24세인 진수를 추가해 주세요.\n",
    "# TODO\n",
    "# my_dict['진수'] = 24\n",
    "# print(my_dict)\n",
    "\n",
    "\n",
    "# 특정 키 가진 순서쌍 삭제\n",
    "# 영수의 정보를 딕셔너리에서 삭제해 주세요.\n",
    "# TODO\n",
    "# del(my_dict['영수'])\n",
    "# print(my_dict)\n",
    "\n",
    "\n",
    "# 특정한 값(value) 가진 키-값 쌍 삭제\n",
    "# 나이가 25세 이하인 사람의 정보를 모두 삭제해 주세요.\n",
    "# TODO\n",
    "my_dict = {key: value for key, value in my_dict.items() if value > 25}\n",
    "print(my_dict)"
   ]
  },
  {
   "cell_type": "code",
   "execution_count": 13,
   "metadata": {},
   "outputs": [
    {
     "data": {
      "text/plain": [
       "{'철수': 30, '민준': 30}"
      ]
     },
     "execution_count": 13,
     "metadata": {},
     "output_type": "execute_result"
    }
   ],
   "source": [
    "my_dict"
   ]
  },
  {
   "cell_type": "code",
   "execution_count": 14,
   "metadata": {},
   "outputs": [
    {
     "data": {
      "text/plain": [
       "dict_items([('철수', 30), ('민준', 30)])"
      ]
     },
     "execution_count": 14,
     "metadata": {},
     "output_type": "execute_result"
    }
   ],
   "source": [
    "my_dict.items()"
   ]
  }
 ],
 "metadata": {
  "kernelspec": {
   "display_name": "venv",
   "language": "python",
   "name": "python3"
  },
  "language_info": {
   "codemirror_mode": {
    "name": "ipython",
    "version": 3
   },
   "file_extension": ".py",
   "mimetype": "text/x-python",
   "name": "python",
   "nbconvert_exporter": "python",
   "pygments_lexer": "ipython3",
   "version": "3.12.4"
  }
 },
 "nbformat": 4,
 "nbformat_minor": 2
}
