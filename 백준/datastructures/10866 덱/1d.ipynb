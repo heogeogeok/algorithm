{
 "cells": [
  {
   "cell_type": "code",
   "execution_count": null,
   "metadata": {},
   "outputs": [],
   "source": [
    "import sys\n",
    "from collections import deque\n",
    "\n",
    "n = int(sys.stdin.readline())\n",
    "queue = deque()\n",
    "\n",
    "for _ in range(n):\n",
    "    command = sys.stdin.readline().split()\n",
    "    op = command[0]\n",
    "    if op == 'push_front':\n",
    "        queue.appendleft(command[1])\n",
    "    elif op == 'push_back':\n",
    "        queue.append(command[1])\n",
    "    elif op == 'pop_back':\n",
    "        print(queue.pop() if queue else -1)\n",
    "    elif op == 'pop_front':\n",
    "        print(queue.popleft() if queue else -1)\n",
    "    elif op == 'size':\n",
    "        print(len(queue))\n",
    "    elif op == 'empty':\n",
    "        print(1 if not queue else 0)\n",
    "    elif op =='front':\n",
    "        print(queue[0] if queue else -1)\n",
    "    else:\n",
    "        print(queue[-1] if queue else -1)\n"
   ]
  }
 ],
 "metadata": {
  "language_info": {
   "name": "python"
  }
 },
 "nbformat": 4,
 "nbformat_minor": 2
}
