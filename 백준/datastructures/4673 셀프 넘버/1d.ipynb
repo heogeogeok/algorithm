{
 "cells": [
  {
   "cell_type": "code",
   "execution_count": null,
   "metadata": {},
   "outputs": [],
   "source": [
    "def self_number(n):\n",
    "    def generator(d):\n",
    "        return d + sum(map(int, str(d)))\n",
    "    \n",
    "    generated = set()\n",
    "    for d in range(1, n + 1):\n",
    "        generated.add(generator(d))\n",
    "    \n",
    "    self_numbers = sorted(set(range(1, n + 1)) - generated)\n",
    "    return self_numbers\n",
    "\n",
    "print(*self_number(10000), sep='\\n')"
   ]
  }
 ],
 "metadata": {
  "kernelspec": {
   "display_name": "venv",
   "language": "python",
   "name": "python3"
  },
  "language_info": {
   "codemirror_mode": {
    "name": "ipython",
    "version": 3
   },
   "file_extension": ".py",
   "mimetype": "text/x-python",
   "name": "python",
   "nbconvert_exporter": "python",
   "pygments_lexer": "ipython3",
   "version": "3.12.4"
  }
 },
 "nbformat": 4,
 "nbformat_minor": 2
}
