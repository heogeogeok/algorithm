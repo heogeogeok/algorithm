{
 "cells": [
  {
   "cell_type": "code",
   "execution_count": 52,
   "metadata": {},
   "outputs": [
    {
     "name": "stdout",
     "output_type": "stream",
     "text": [
      "1\n"
     ]
    }
   ],
   "source": [
    "from collections import deque \n",
    "\n",
    "t = int(input())\n",
    "for _ in range(t):\n",
    "    n, m = map(int, input().split())\n",
    "    queue = deque((map(int, input().split())))\n",
    "    idx = deque(range(0, n))\n",
    "\n",
    "    res = 0\n",
    "\n",
    "    while queue:\n",
    "        max_value = max(queue)\n",
    "        front = queue.popleft()\n",
    "        \n",
    "        if front == max_value:\n",
    "            res += 1     \n",
    "            if idx[0] == m:\n",
    "                print(res)\n",
    "                break\n",
    "            else:\n",
    "                idx.popleft()\n",
    "        else:\n",
    "            queue.append(front)\n",
    "            idx.append(idx.popleft())\n"
   ]
  }
 ],
 "metadata": {
  "kernelspec": {
   "display_name": "venv",
   "language": "python",
   "name": "python3"
  },
  "language_info": {
   "codemirror_mode": {
    "name": "ipython",
    "version": 3
   },
   "file_extension": ".py",
   "mimetype": "text/x-python",
   "name": "python",
   "nbconvert_exporter": "python",
   "pygments_lexer": "ipython3",
   "version": "3.12.4"
  }
 },
 "nbformat": 4,
 "nbformat_minor": 2
}
