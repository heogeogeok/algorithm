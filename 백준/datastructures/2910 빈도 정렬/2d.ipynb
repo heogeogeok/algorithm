{
 "cells": [
  {
   "cell_type": "code",
   "execution_count": 10,
   "metadata": {},
   "outputs": [
    {
     "name": "stdout",
     "output_type": "stream",
     "text": [
      "2 2 2 1 1\n"
     ]
    }
   ],
   "source": [
    "from collections import Counter\n",
    "n, c = 5, 2\n",
    "messsage = [2, 1, 2, 1, 2]\n",
    "counter = Counter(message)\n",
    "sorted_message = sorted(message, key=lambda x: (-counter[x], message.index(x)))\n",
    "print(*sorted_message)"
   ]
  }
 ],
 "metadata": {
  "kernelspec": {
   "display_name": "venv",
   "language": "python",
   "name": "python3"
  },
  "language_info": {
   "codemirror_mode": {
    "name": "ipython",
    "version": 3
   },
   "file_extension": ".py",
   "mimetype": "text/x-python",
   "name": "python",
   "nbconvert_exporter": "python",
   "pygments_lexer": "ipython3",
   "version": "3.12.4"
  }
 },
 "nbformat": 4,
 "nbformat_minor": 2
}
