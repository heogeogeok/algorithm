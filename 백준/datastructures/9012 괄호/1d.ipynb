{
 "cells": [
  {
   "cell_type": "code",
   "execution_count": 1,
   "metadata": {},
   "outputs": [],
   "source": [
    "n = int(input())\n",
    "\n",
    "input_list = [input() for _ in range(n)]"
   ]
  },
  {
   "cell_type": "code",
   "execution_count": 9,
   "metadata": {},
   "outputs": [
    {
     "name": "stdout",
     "output_type": "stream",
     "text": [
      "NO\n",
      "NO\n",
      "YES\n",
      "NO\n",
      "YES\n",
      "NO\n"
     ]
    }
   ],
   "source": [
    "for check in input_list:\n",
    "    stack = []\n",
    "    is_balanced = True\n",
    "    for s in check:\n",
    "        if s == '(':\n",
    "            stack.append('(')\n",
    "        elif s ==')':\n",
    "            if stack:\n",
    "                stack.pop()\n",
    "            else:\n",
    "                print('NO')\n",
    "                is_balanced = False\n",
    "                break\n",
    "    if is_balanced:\n",
    "        if not stack:\n",
    "            print('YES')\n",
    "        else:\n",
    "            print('NO')\n",
    "        "
   ]
  }
 ],
 "metadata": {
  "kernelspec": {
   "display_name": "venv",
   "language": "python",
   "name": "python3"
  },
  "language_info": {
   "codemirror_mode": {
    "name": "ipython",
    "version": 3
   },
   "file_extension": ".py",
   "mimetype": "text/x-python",
   "name": "python",
   "nbconvert_exporter": "python",
   "pygments_lexer": "ipython3",
   "version": "3.12.4"
  }
 },
 "nbformat": 4,
 "nbformat_minor": 2
}
