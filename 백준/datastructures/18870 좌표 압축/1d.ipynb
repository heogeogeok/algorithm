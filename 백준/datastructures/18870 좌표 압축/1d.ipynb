{
 "cells": [
  {
   "cell_type": "code",
   "execution_count": 7,
   "metadata": {},
   "outputs": [],
   "source": [
    "n = int(input())\n",
    "x = list(map(int, input().split()))"
   ]
  },
  {
   "cell_type": "code",
   "execution_count": null,
   "metadata": {},
   "outputs": [],
   "source": [
    "mapper = {}\n",
    "x_no_redundancy = sorted(set(x))\n",
    "\n",
    "for i, ele in enumerate(x_no_redundancy):\n",
    "    mapper[ele] = i\n",
    "\n",
    "ans = [0] * n\n",
    "\n",
    "for i, ele in enumerate(x):\n",
    "    ans[i] = mapper[ele]\n",
    "print(*ans)"
   ]
  }
 ],
 "metadata": {
  "kernelspec": {
   "display_name": "venv",
   "language": "python",
   "name": "python3"
  },
  "language_info": {
   "codemirror_mode": {
    "name": "ipython",
    "version": 3
   },
   "file_extension": ".py",
   "mimetype": "text/x-python",
   "name": "python",
   "nbconvert_exporter": "python",
   "pygments_lexer": "ipython3",
   "version": "3.12.4"
  }
 },
 "nbformat": 4,
 "nbformat_minor": 2
}
