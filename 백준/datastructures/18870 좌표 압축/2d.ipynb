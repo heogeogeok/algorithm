{
 "cells": [
  {
   "cell_type": "code",
   "execution_count": 13,
   "metadata": {},
   "outputs": [
    {
     "name": "stdout",
     "output_type": "stream",
     "text": [
      "2 3 0 3 1 "
     ]
    }
   ],
   "source": [
    "n = 5\n",
    "x = [2, 4, -10, 4, -9]\n",
    "sorted_x = sorted(set(x))\n",
    "ans = {}\n",
    "for i, ele in enumerate(sorted_x):\n",
    "    ans[ele] = i\n",
    "for i in x:\n",
    "    print(ans[i], end=' ')\n",
    "    "
   ]
  },
  {
   "cell_type": "code",
   "execution_count": 15,
   "metadata": {},
   "outputs": [
    {
     "name": "stdout",
     "output_type": "stream",
     "text": [
      "{-10: 0, -9: 1, 2: 2, 4: 3}\n",
      "2 3 0 3 1\n"
     ]
    }
   ],
   "source": [
    "n = 5\n",
    "x = [2, 4, -10, 4, -9]\n",
    "\n",
    "mapper = {}\n",
    "x_no_redundancy = sorted(set(x))\n",
    "\n",
    "for i, ele in enumerate(x_no_redundancy):\n",
    "    mapper[ele] = i\n",
    "print(mapper)\n",
    "\n",
    "ans = [0] * n\n",
    "\n",
    "for i, ele in enumerate(x):\n",
    "    ans[i] = mapper[ele]\n",
    "print(*ans)"
   ]
  },
  {
   "cell_type": "code",
   "execution_count": null,
   "metadata": {},
   "outputs": [],
   "source": []
  }
 ],
 "metadata": {
  "kernelspec": {
   "display_name": "venv",
   "language": "python",
   "name": "python3"
  },
  "language_info": {
   "codemirror_mode": {
    "name": "ipython",
    "version": 3
   },
   "file_extension": ".py",
   "mimetype": "text/x-python",
   "name": "python",
   "nbconvert_exporter": "python",
   "pygments_lexer": "ipython3",
   "version": "3.12.4"
  }
 },
 "nbformat": 4,
 "nbformat_minor": 2
}
