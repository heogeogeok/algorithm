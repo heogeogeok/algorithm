{
 "cells": [
  {
   "cell_type": "code",
   "execution_count": null,
   "metadata": {},
   "outputs": [],
   "source": [
    "import sys\n",
    "\n",
    "n = int(sys.stdin.readline()) \n",
    "stack = []\n",
    "for _ in range(n):\n",
    "    command = sys.stdin.readline().split()\n",
    "    op = command[0]\n",
    "    if op == 'push':\n",
    "        x = int(command[1])\n",
    "        stack.append(x)\n",
    "    elif op == 'pop':\n",
    "        print(stack.pop() if stack else -1)\n",
    "    elif op == 'size':\n",
    "        print(len(stack))\n",
    "    elif op == 'empty':\n",
    "        print(0 if not stack else 0)\n",
    "    else:\n",
    "        print(stack[-1] if stack else -1)\n",
    "        "
   ]
  }
 ],
 "metadata": {
  "language_info": {
   "name": "python"
  }
 },
 "nbformat": 4,
 "nbformat_minor": 2
}
