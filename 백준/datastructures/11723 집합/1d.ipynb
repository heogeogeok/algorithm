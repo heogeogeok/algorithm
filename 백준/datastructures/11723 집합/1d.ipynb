{
 "cells": [
  {
   "cell_type": "code",
   "execution_count": null,
   "metadata": {},
   "outputs": [],
   "source": [
    "import sys\n",
    "m = int(sys.stdin.readline())\n",
    "my_set = set()\n",
    "for _ in range(m):\n",
    "    command = sys.stdin.readline().split()\n",
    "    op = command[0]\n",
    "\n",
    "    if op == 'add':\n",
    "        num = int(command[1])\n",
    "        my_set.add(num)\n",
    "    elif op == 'remove':\n",
    "        num = int(command[1])\n",
    "        my_set.discard(num)\n",
    "    elif op == 'check':\n",
    "        num = int(command[1])\n",
    "        print(1 if num in my_set else 0)\n",
    "    elif op == 'toggle':\n",
    "        num = int(command[1])\n",
    "        if num in my_set:\n",
    "            my_set.remove(num)\n",
    "        else:\n",
    "            my_set.add(num)\n",
    "    elif op == 'all':\n",
    "        my_set = set(range(1, 21))\n",
    "    else:\n",
    "        my_set.clear()\n"
   ]
  }
 ],
 "metadata": {
  "language_info": {
   "name": "python"
  }
 },
 "nbformat": 4,
 "nbformat_minor": 2
}
