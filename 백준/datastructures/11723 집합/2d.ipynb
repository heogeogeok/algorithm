{
 "cells": [
  {
   "cell_type": "code",
   "execution_count": null,
   "metadata": {},
   "outputs": [],
   "source": [
    "m = int(input())\n",
    "my_set = {}\n",
    "for _ in range(m):\n",
    "    command = input().split()\n",
    "    op = command[0]\n",
    "    if op == 'add':\n",
    "        x = int(command[1])\n",
    "        my_set.add(x)\n",
    "    elif op == 'remove':\n",
    "        x = int(command[1])\n",
    "        my_set.discard(x)\n",
    "    elif op == 'check':\n",
    "        x = int(command[1])\n",
    "        print(1 if x in my_set else 0)\n",
    "    elif op == 'toggle':\n",
    "        x = int(command[1])\n",
    "        if x in my_set:\n",
    "            my_set.remove(x)\n",
    "        else:\n",
    "            my_set.add(x)\n",
    "    elif op == 'all':\n",
    "        my_set = set(range(1, 21))\n",
    "    else:\n",
    "        my_set.clear()\n",
    "        "
   ]
  }
 ],
 "metadata": {
  "language_info": {
   "name": "python"
  }
 },
 "nbformat": 4,
 "nbformat_minor": 2
}
