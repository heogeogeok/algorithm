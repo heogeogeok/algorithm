{
 "cells": [
  {
   "cell_type": "code",
   "execution_count": null,
   "metadata": {},
   "outputs": [],
   "source": [
    "import sys\n",
    "from collections import deque\n",
    "n = int(sys.stdin.readline())\n",
    "queue = deque()\n",
    "\n",
    "for _ in range(n):\n",
    "    command = sys.stdin.readline().split()\n",
    "    op = command[0]\n",
    "    if op == 'push':\n",
    "        queue.append(command[1])\n",
    "    elif op == 'pop':\n",
    "        print(queue.popleft() if queue else -1)\n",
    "    elif op == 'size':\n",
    "        print(len(queue))\n",
    "    elif op == 'empty':\n",
    "        print(1 if not queue else 0)\n",
    "    elif op == 'front':\n",
    "        print(queue[0] if queue else -1)\n",
    "    else:\n",
    "        print(queue[-1] if queue else -1)"
   ]
  }
 ],
 "metadata": {
  "kernelspec": {
   "display_name": "venv",
   "language": "python",
   "name": "python3"
  },
  "language_info": {
   "codemirror_mode": {
    "name": "ipython",
    "version": 3
   },
   "file_extension": ".py",
   "mimetype": "text/x-python",
   "name": "python",
   "nbconvert_exporter": "python",
   "pygments_lexer": "ipython3",
   "version": "3.12.4"
  }
 },
 "nbformat": 4,
 "nbformat_minor": 2
}
