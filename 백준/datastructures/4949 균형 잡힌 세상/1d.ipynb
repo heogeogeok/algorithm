{
 "cells": [
  {
   "cell_type": "code",
   "execution_count": null,
   "metadata": {},
   "outputs": [
    {
     "name": "stdout",
     "output_type": "stream",
     "text": [
      "yes\n",
      "yes\n",
      "no\n",
      "no\n",
      "no\n",
      "yes\n",
      "yes\n"
     ]
    }
   ],
   "source": [
    "from collections import deque\n",
    "\n",
    "while True:\n",
    "    sentence = input()\n",
    "    if sentence == '.':\n",
    "        break\n",
    "    queue = deque()\n",
    "\n",
    "    is_valid = True\n",
    "    for s in sentence:\n",
    "        if s == '(':\n",
    "            queue.append('(')\n",
    "        elif s == '[':\n",
    "            queue.append('[')\n",
    "        elif s == ')':\n",
    "            if queue and queue[-1] == '(':\n",
    "                queue.pop()\n",
    "            else:\n",
    "                print('no')\n",
    "                is_valid = False\n",
    "                break\n",
    "        elif s == ']':\n",
    "            if queue and queue[-1] == '[':\n",
    "                queue.pop()\n",
    "            else:\n",
    "                print('no')\n",
    "                is_valid = False\n",
    "                break\n",
    "    \n",
    "    if is_valid:\n",
    "        if queue:\n",
    "            print('no')\n",
    "        else:\n",
    "            print('yes')"
   ]
  },
  {
   "cell_type": "code",
   "execution_count": null,
   "metadata": {},
   "outputs": [],
   "source": []
  }
 ],
 "metadata": {
  "kernelspec": {
   "display_name": "venv",
   "language": "python",
   "name": "python3"
  },
  "language_info": {
   "codemirror_mode": {
    "name": "ipython",
    "version": 3
   },
   "file_extension": ".py",
   "mimetype": "text/x-python",
   "name": "python",
   "nbconvert_exporter": "python",
   "pygments_lexer": "ipython3",
   "version": "3.12.4"
  }
 },
 "nbformat": 4,
 "nbformat_minor": 2
}
