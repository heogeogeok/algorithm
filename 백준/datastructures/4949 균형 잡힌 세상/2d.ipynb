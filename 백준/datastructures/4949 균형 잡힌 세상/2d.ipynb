{
 "cells": [
  {
   "cell_type": "code",
   "execution_count": null,
   "metadata": {},
   "outputs": [],
   "source": [
    "while True:\n",
    "    sentence = input()\n",
    "    if sentence == '.':\n",
    "        break\n",
    "    stack = []\n",
    "    is_valid = True\n",
    "    \n",
    "    for s in sentence:\n",
    "        if s == '[':\n",
    "            stack.append('[')\n",
    "        elif s == '(':\n",
    "            stack.append('(')\n",
    "        elif s == ']':\n",
    "            if stack and stack[-1] == '[':\n",
    "                stack.pop()\n",
    "            else:\n",
    "                is_valid = False\n",
    "                print('no')\n",
    "                break\n",
    "        elif s == ')':\n",
    "            if stack and stack[-1] == '[':\n",
    "                stack.pop()\n",
    "            else:\n",
    "                is_valid = False\n",
    "                print('no')\n",
    "                break\n",
    "    if is_valid:\n",
    "        if stack:\n",
    "            print('no')\n",
    "        else:\n",
    "            print('yes')\n"
   ]
  },
  {
   "cell_type": "code",
   "execution_count": null,
   "metadata": {},
   "outputs": [],
   "source": []
  }
 ],
 "metadata": {
  "kernelspec": {
   "display_name": "venv",
   "language": "python",
   "name": "python3"
  },
  "language_info": {
   "codemirror_mode": {
    "name": "ipython",
    "version": 3
   },
   "file_extension": ".py",
   "mimetype": "text/x-python",
   "name": "python",
   "nbconvert_exporter": "python",
   "pygments_lexer": "ipython3",
   "version": "3.12.4"
  }
 },
 "nbformat": 4,
 "nbformat_minor": 2
}
