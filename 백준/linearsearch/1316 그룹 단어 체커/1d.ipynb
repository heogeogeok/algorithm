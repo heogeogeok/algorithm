{
 "cells": [
  {
   "cell_type": "code",
   "execution_count": 4,
   "metadata": {},
   "outputs": [],
   "source": [
    "# 1. 입력 처리\n",
    "n = int(input())\n",
    "words = [input() for _ in range(n)]"
   ]
  },
  {
   "cell_type": "code",
   "execution_count": null,
   "metadata": {},
   "outputs": [],
   "source": [
    "answer = 0\n",
    "# 2. 배열 순회\n",
    "for word in words:\n",
    "    before = []\n",
    "    flag = True\n",
    "    # 2-1. 단어 순회\n",
    "    for chr in word:\n",
    "        # 2-2. 이미 한번 본 단어 체크\n",
    "        if chr not in before:\n",
    "            before.append(chr)\n",
    "        # 2-3. 이미 한번 봤고, 연속되지 않았다면\n",
    "        elif prev != chr and chr in before:\n",
    "            flag = False\n",
    "        prev = chr\n",
    "    if flag is True:\n",
    "        answer += 1\n",
    "\n",
    "# 3. 출력\n",
    "print(answer)"
   ]
  }
 ],
 "metadata": {
  "kernelspec": {
   "display_name": "venv",
   "language": "python",
   "name": "python3"
  },
  "language_info": {
   "codemirror_mode": {
    "name": "ipython",
    "version": 3
   },
   "file_extension": ".py",
   "mimetype": "text/x-python",
   "name": "python",
   "nbconvert_exporter": "python",
   "pygments_lexer": "ipython3",
   "version": "3.12.4"
  }
 },
 "nbformat": 4,
 "nbformat_minor": 2
}
