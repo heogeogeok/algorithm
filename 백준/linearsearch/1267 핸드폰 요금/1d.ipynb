{
 "cells": [
  {
   "cell_type": "code",
   "execution_count": 16,
   "metadata": {},
   "outputs": [],
   "source": [
    "# 1. 입력 처리\n",
    "n = int(input())\n",
    "times = list(map(int, input().split()))"
   ]
  },
  {
   "cell_type": "code",
   "execution_count": null,
   "metadata": {},
   "outputs": [],
   "source": [
    "y, m = 0, 0 \n",
    "# 2. 배열 순회\n",
    "for time in times:\n",
    "    y += (time // 30 + 1) * 10\n",
    "for time in times:\n",
    "    m += (time // 60 + 1) * 15\n",
    "\n",
    "# 3. 출력\n",
    "if y == m:\n",
    "    print('Y M', y)\n",
    "elif y < m:\n",
    "    print('Y', y)\n",
    "else:\n",
    "    print('M', m)"
   ]
  }
 ],
 "metadata": {
  "kernelspec": {
   "display_name": "venv",
   "language": "python",
   "name": "python3"
  },
  "language_info": {
   "codemirror_mode": {
    "name": "ipython",
    "version": 3
   },
   "file_extension": ".py",
   "mimetype": "text/x-python",
   "name": "python",
   "nbconvert_exporter": "python",
   "pygments_lexer": "ipython3",
   "version": "3.12.4"
  }
 },
 "nbformat": 4,
 "nbformat_minor": 2
}
