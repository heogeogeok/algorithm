{
 "cells": [
  {
   "cell_type": "code",
   "execution_count": 5,
   "metadata": {},
   "outputs": [
    {
     "name": "stdout",
     "output_type": "stream",
     "text": [
      "Y M 60\n"
     ]
    }
   ],
   "source": [
    "n = int(input())\n",
    "times = list(map(int, input().split()))\n",
    "y, m = 0, 0 \n",
    "\n",
    "for time in times:\n",
    "    y += (time // 30 + 1)* 10\n",
    "for time in times:\n",
    "    m += (time // 60 + 1) * 15\n",
    "\n",
    "if y == m:\n",
    "    print('Y M', y)\n",
    "elif y < m:\n",
    "    print('Y', y)\n",
    "else:\n",
    "    print('M', m)"
   ]
  }
 ],
 "metadata": {
  "kernelspec": {
   "display_name": "venv",
   "language": "python",
   "name": "python3"
  },
  "language_info": {
   "codemirror_mode": {
    "name": "ipython",
    "version": 3
   },
   "file_extension": ".py",
   "mimetype": "text/x-python",
   "name": "python",
   "nbconvert_exporter": "python",
   "pygments_lexer": "ipython3",
   "version": "3.12.4"
  }
 },
 "nbformat": 4,
 "nbformat_minor": 2
}
