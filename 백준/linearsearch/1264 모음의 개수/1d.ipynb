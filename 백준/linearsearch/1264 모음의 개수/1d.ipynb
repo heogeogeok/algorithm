{
 "cells": [
  {
   "cell_type": "code",
   "execution_count": null,
   "metadata": {},
   "outputs": [],
   "source": [
    "while True:\n",
    "    # 1. 입력 처리\n",
    "    sentence = input()\n",
    "    answer = 0\n",
    "    if sentence == '#':\n",
    "        break\n",
    "    # 2. 문장 순회\n",
    "    for s in sentence:\n",
    "        if s in ['a', 'e', 'i', 'o', 'u', 'A', 'E', 'I', 'O', 'U']:\n",
    "            answer += 1\n",
    "    # 3. 모음 개수 출력\n",
    "    print(answer)"
   ]
  }
 ],
 "metadata": {
  "kernelspec": {
   "display_name": "venv",
   "language": "python",
   "name": "python3"
  },
  "language_info": {
   "codemirror_mode": {
    "name": "ipython",
    "version": 3
   },
   "file_extension": ".py",
   "mimetype": "text/x-python",
   "name": "python",
   "nbconvert_exporter": "python",
   "pygments_lexer": "ipython3",
   "version": "3.12.4"
  }
 },
 "nbformat": 4,
 "nbformat_minor": 2
}
