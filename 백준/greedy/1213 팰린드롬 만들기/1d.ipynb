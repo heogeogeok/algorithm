{
 "cells": [
  {
   "cell_type": "code",
   "execution_count": 5,
   "metadata": {},
   "outputs": [
    {
     "name": "stdout",
     "output_type": "stream",
     "text": [
      "I'm Sorry Hansoo\n"
     ]
    }
   ],
   "source": [
    "from collections import Counter\n",
    "# 1. 입력 처리\n",
    "name = input()\n",
    "\n",
    "# 2. 알파벳 개수 세기!\n",
    "counter = Counter(name)\n",
    "\n",
    "# 2-1. 홀수 개수 세기\n",
    "odd = ''\n",
    "odd_count = 0\n",
    "for key in counter:\n",
    "    if counter[key] % 2 != 0:\n",
    "        odd_count += 1\n",
    "        odd = key\n",
    "\n",
    "# 2-2. 홀수 개인 알파벳이 두 개 이상이면 팰린드롬 못만듦\n",
    "if odd_count > 1:\n",
    "    print(\"I'm Sorry Hansoo\")\n",
    "# 2-3. 홀수 개인 알파벳이 하나 이하라면\n",
    "else: \n",
    "    ans = ''\n",
    "    for key in sorted(counter):\n",
    "        ans += key * (counter[key] // 2)\n",
    "    if odd:\n",
    "        ans += odd + ans[::-1]\n",
    "    else:\n",
    "        ans += ans[::-1]\n",
    "    # 3. 출력\n",
    "    print(ans)"
   ]
  }
 ],
 "metadata": {
  "kernelspec": {
   "display_name": "venv",
   "language": "python",
   "name": "python3"
  },
  "language_info": {
   "codemirror_mode": {
    "name": "ipython",
    "version": 3
   },
   "file_extension": ".py",
   "mimetype": "text/x-python",
   "name": "python",
   "nbconvert_exporter": "python",
   "pygments_lexer": "ipython3",
   "version": "3.12.4"
  }
 },
 "nbformat": 4,
 "nbformat_minor": 2
}
