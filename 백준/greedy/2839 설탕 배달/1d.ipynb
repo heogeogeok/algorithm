{
 "cells": [
  {
   "cell_type": "code",
   "execution_count": null,
   "metadata": {},
   "outputs": [],
   "source": [
    "n = int(input())\n",
    "\n",
    "sugar = n\n",
    "ans = 0\n",
    "if sugar % 5 == 0:\n",
    "    ans = sugar // 5\n",
    "    print(ans)\n",
    "else:\n",
    "    while sugar > 0:\n",
    "        sugar -= 3\n",
    "        ans += 1\n",
    "        if sugar % 5 == 0:\n",
    "            ans += sugar // 5\n",
    "            print(ans)\n",
    "            break\n",
    "        elif sugar == 1 or sugar == 2:\n",
    "            ans = -1\n",
    "            print(ans)\n",
    "            break\n",
    "        elif sugar == 0:\n",
    "            print(ans)\n",
    "            break\n"
   ]
  }
 ],
 "metadata": {
  "kernelspec": {
   "display_name": "venv",
   "language": "python",
   "name": "python3"
  },
  "language_info": {
   "codemirror_mode": {
    "name": "ipython",
    "version": 3
   },
   "file_extension": ".py",
   "mimetype": "text/x-python",
   "name": "python",
   "nbconvert_exporter": "python",
   "pygments_lexer": "ipython3",
   "version": "3.12.4"
  }
 },
 "nbformat": 4,
 "nbformat_minor": 2
}
