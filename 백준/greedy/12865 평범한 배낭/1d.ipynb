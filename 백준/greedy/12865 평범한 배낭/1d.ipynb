{
 "cells": [
  {
   "cell_type": "code",
   "execution_count": 1,
   "metadata": {},
   "outputs": [
    {
     "name": "stdout",
     "output_type": "stream",
     "text": [
      "14\n"
     ]
    }
   ],
   "source": [
    "n, k = map(int, input().split())\n",
    "items = [tuple(map(int, input().split())) for _ in range(n)]\n",
    "\n",
    "dp = [0] * (k + 1)\n",
    "for weight, value in items:\n",
    "    for w in range(k, weight-1, -1):\n",
    "        dp[w] = max(dp[w], dp[w - weight] + value)\n",
    "\n",
    "print(dp[k])"
   ]
  }
 ],
 "metadata": {
  "kernelspec": {
   "display_name": "venv",
   "language": "python",
   "name": "python3"
  },
  "language_info": {
   "codemirror_mode": {
    "name": "ipython",
    "version": 3
   },
   "file_extension": ".py",
   "mimetype": "text/x-python",
   "name": "python",
   "nbconvert_exporter": "python",
   "pygments_lexer": "ipython3",
   "version": "3.12.4"
  }
 },
 "nbformat": 4,
 "nbformat_minor": 2
}
