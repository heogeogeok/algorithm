{
 "cells": [
  {
   "cell_type": "code",
   "execution_count": 36,
   "metadata": {},
   "outputs": [
    {
     "name": "stdout",
     "output_type": "stream",
     "text": [
      "3\n"
     ]
    }
   ],
   "source": [
    "# 1. 입력 처리\n",
    "n = int(input())\n",
    "coins = list(map(int, input().split()))\n",
    "\n",
    "# 2. 내림차순으로 정렬해서 가능한 가장 큰 동전을 빼서 최소 동전 개수 세기\n",
    "coins.sort(reverse=True)\n",
    "count = 0\n",
    "change = n\n",
    "\n",
    "while change > 0:\n",
    "    for coin in coins:\n",
    "        if change >= coin:\n",
    "            change -= coin\n",
    "            count += 1\n",
    "            break\n",
    "print(count)"
   ]
  }
 ],
 "metadata": {
  "kernelspec": {
   "display_name": "venv",
   "language": "python",
   "name": "python3"
  },
  "language_info": {
   "codemirror_mode": {
    "name": "ipython",
    "version": 3
   },
   "file_extension": ".py",
   "mimetype": "text/x-python",
   "name": "python",
   "nbconvert_exporter": "python",
   "pygments_lexer": "ipython3",
   "version": "3.12.4"
  }
 },
 "nbformat": 4,
 "nbformat_minor": 2
}
