{
 "cells": [
  {
   "cell_type": "code",
   "execution_count": null,
   "metadata": {},
   "outputs": [
    {
     "name": "stdout",
     "output_type": "stream",
     "text": [
      "1666\n"
     ]
    }
   ],
   "source": [
    "n = int(input())\n",
    "i = 0\n",
    "count = 0\n",
    "while True:\n",
    "    # 숫자를 하나씩 늘려가면서 '666'이 포함되어 있는지 확인\n",
    "    # 타겟 넘버 n과 같아지면 그때 print하고 break\n",
    "    # 하나씩 계속 숫자를 늘려가며 확인\n",
    "    if '666' in str(i):\n",
    "        count += 1\n",
    "        if count == n:\n",
    "            print(i)\n",
    "            break\n",
    "    i += 1"
   ]
  },
  {
   "cell_type": "code",
   "execution_count": null,
   "metadata": {},
   "outputs": [],
   "source": [
    "n = 187\n",
    "n_doom = 0\n",
    "cur = 1\n",
    "\n",
    "def is_doom(cur):\n",
    "    series_6 = 0\n",
    "    text = str(cur)\n",
    "    for i in range(len(text)):\n",
    "        if i == '6':\n",
    "            series_6 += 1\n",
    "        else:\n",
    "            series_6 = 0\n",
    "        if series_6 == 3:\n",
    "            return True\n",
    "    return False\n",
    "\n",
    "while True:\n",
    "    if is_doom(cur) == True:\n",
    "        n_doom +=1\n",
    "    if n_doom == n:\n",
    "        print(cur)\n",
    "        break\n",
    "    cur += 1"
   ]
  },
  {
   "cell_type": "code",
   "execution_count": null,
   "metadata": {},
   "outputs": [],
   "source": []
  }
 ],
 "metadata": {
  "kernelspec": {
   "display_name": "venv",
   "language": "python",
   "name": "python3"
  },
  "language_info": {
   "codemirror_mode": {
    "name": "ipython",
    "version": 3
   },
   "file_extension": ".py",
   "mimetype": "text/x-python",
   "name": "python",
   "nbconvert_exporter": "python",
   "pygments_lexer": "ipython3",
   "version": "3.12.4"
  }
 },
 "nbformat": 4,
 "nbformat_minor": 2
}
